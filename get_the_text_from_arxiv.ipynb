{
 "cells": [
  {
   "cell_type": "markdown",
   "metadata": {},
   "source": [
    "# use the Arxiv API with function"
   ]
  },
  {
   "cell_type": "code",
   "execution_count": 8,
   "metadata": {},
   "outputs": [],
   "source": [
    "import urllib.request\n",
    "import xml.etree.ElementTree as ET"
   ]
  },
  {
   "cell_type": "code",
   "execution_count": 9,
   "metadata": {},
   "outputs": [],
   "source": [
    "def fetch_papers():\n",
    "\n",
    "    \"\"\"Fetches papers from the arXiv API and returns them as a list of strings.\"\"\"\n",
    "\n",
    "    url = 'http://export.arxiv.org/api/query?search_query=ti:llama&start=0&max_results=70'\n",
    "\n",
    "    response = urllib.request.urlopen(url)\n",
    "\n",
    "    data = response.read().decode('utf-8')\n",
    "\n",
    "    root = ET.fromstring(data)\n",
    "\n",
    "\n",
    "\n",
    "    papers_list = []\n",
    "\n",
    "    for entry in root.findall('{http://www.w3.org/2005/Atom}entry'):\n",
    "\n",
    "        title = entry.find('{http://www.w3.org/2005/Atom}title').text\n",
    "\n",
    "        summary = entry.find('{http://www.w3.org/2005/Atom}summary').text\n",
    "\n",
    "        paper_info = f\"Title: {title}\\nSummary: {summary}\\n\"\n",
    "\n",
    "        papers_list.append(paper_info)\n",
    "\n",
    "\n",
    "\n",
    "    return papers_list"
   ]
  },
  {
   "cell_type": "code",
   "execution_count": null,
   "metadata": {},
   "outputs": [],
   "source": [
    "papers = fetch_papers()"
   ]
  },
  {
   "cell_type": "code",
   "execution_count": 11,
   "metadata": {},
   "outputs": [],
   "source": [
    "# Assume we have a list named 'papers', which contains information about papers.\n",
    "# papers =   # This is the list containing the paper information you've obtained.\n",
    "\n",
    "# I will use that by Chromadb\n",
    "\n",
    "# To save the text into a file named 'papers.txt':\n",
    "with open('papers.txt', 'w', encoding='utf-8') as file:\n",
    "    for paper in papers:\n",
    "        file.write(paper + \"\\n\")  # Writes each paper information to a new line in the file.\n"
   ]
  }
 ],
 "metadata": {
  "kernelspec": {
   "display_name": "Python 3.9.18 ('algonaut_env': venv)",
   "language": "python",
   "name": "python3"
  },
  "language_info": {
   "codemirror_mode": {
    "name": "ipython",
    "version": 3
   },
   "file_extension": ".py",
   "mimetype": "text/x-python",
   "name": "python",
   "nbconvert_exporter": "python",
   "pygments_lexer": "ipython3",
   "version": "3.9.18"
  },
  "orig_nbformat": 4,
  "vscode": {
   "interpreter": {
    "hash": "c5324f1c1d42ea829d34197da467997651adb4f8c0266714a6cf2f180aa110b3"
   }
  }
 },
 "nbformat": 4,
 "nbformat_minor": 2
}
